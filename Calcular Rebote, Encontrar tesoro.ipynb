{
 "cells": [
  {
   "cell_type": "markdown",
   "metadata": {},
   "source": [
    "### Ejercicio 1\n",
    "\n",
    "Se está evaluando el comportamiento de rebote de una esfera recubierta de diversos materiales, midiendo la distancia que esta recorre antes de llegar a cierto número de rebotes. \n",
    "\n",
    "Esta esfera es arrojada por un cilindro que se asegura que se mueva únicamente de manera vertical, y dependiendo del grado de rebote la esfera va a rebotar más o menos. \n",
    "\n",
    "Por ejemplo, para un cilindro de **distancia 10** y una esfera recubierta de un material con un **grado de rebote de 0.5**, la distancia recorrida por la esfera al tocar el suelo por **tercera vez** es la suma de las siguientes distancias:\n",
    "\n",
    "- La distancia original del cilindro (10) al caer al suelo.\n",
    "- La distancia recorrida en el rebote (10 x 0.5 = 5).\n",
    "- La distancia recorrida en volver a caer al suelo (5)\n",
    "- La distancia recorrida en el segundo rebote (5 x 0.5 = 2.5)\n",
    "- La distancia recorrida en volver a caer al suelo (2.5)\n",
    "\n",
    "La suma de estas distancias es 10 + 5 + 5 + 2.5 + 2.5 = **25**\n",
    "\n",
    "<img src=\"https://i.imgur.com/NNVwAvu.png\" width=450>\n",
    "\n",
    "Construya una función llamada `calcularRebote` que reciba 3 parámetros: El **tamaño del cilindro**, el **grado de rebote**, y la **cantidad de toques** por observar, y calcule la distancia recorrida por la esfera para ese experimento."
   ]
  },
  {
   "cell_type": "code",
   "execution_count": 187,
   "metadata": {},
   "outputs": [],
   "source": [
    "def calcularRebote (tamaño,grado,toques):\n",
    "    \n",
    "    dis = []\n",
    "    #distancia ACUMULADOR \n",
    "\n",
    "    for rebote in range (1, toques+1): # Número de rebotes\n",
    "        if rebote == 1: #primera vez\n",
    "            dis.append(tamaño)\n",
    "      \n",
    "        else:\n",
    "            tamaño *= grado\n",
    "            dis.append(tamaño*2)\n",
    "            print(dis)\n",
    "    \n",
    "    return sum(dis)\n"
   ]
  },
  {
   "cell_type": "code",
   "execution_count": 188,
   "metadata": {},
   "outputs": [
    {
     "name": "stdout",
     "output_type": "stream",
     "text": [
      "[10, 10.0]\n",
      "[10, 10.0, 5.0]\n"
     ]
    },
    {
     "data": {
      "text/plain": [
       "25.0"
      ]
     },
     "execution_count": 188,
     "metadata": {},
     "output_type": "execute_result"
    }
   ],
   "source": [
    "calcularRebote(10, 0.5, 3)"
   ]
  },
  {
   "cell_type": "code",
   "execution_count": 134,
   "metadata": {},
   "outputs": [
    {
     "name": "stdout",
     "output_type": "stream",
     "text": [
      "[8, 12.0]\n",
      "[8, 12.0, 9.0]\n",
      "[8, 12.0, 9.0, 6.75]\n"
     ]
    },
    {
     "data": {
      "text/plain": [
       "35.75"
      ]
     },
     "execution_count": 134,
     "metadata": {},
     "output_type": "execute_result"
    }
   ],
   "source": [
    "calcularRebote(8, 0.75, 4)"
   ]
  },
  {
   "cell_type": "markdown",
   "metadata": {},
   "source": [
    "### Ejercicio 2\n",
    "\n",
    "Escriba una función llamada ``encontrarTesoro`` que reciba como entrada **un string** que represente el nombre de un archivo de texto conteniendo las instrucciones para llegar a un tesoro, y que **devuelva la ubicación del tesoro** después de seguir las instrucciones. Dentro del archivo, cada linea representa una instrucción, y está compuesta por **una letra seguida de un espacio y un número**. La letra representa una dirección (**E**ste, **O**este, **N**orte, **S**ur), y el número, el número de pasos a tomar en esa dirección.\n",
    "\n",
    "Por ejemplo, considere el siguiente archivo de muestra, con 6 instrucciones:\n",
    "\n",
    "```\n",
    "E 5\n",
    "N 6\n",
    "O 43\n",
    "S 9\n",
    "E 12\n",
    "S 31\n",
    "```\n",
    "\n",
    "Las instrucciones de este archivo se leen de la siguiente manera:\n",
    "- 5 pasos al este\n",
    "- 6 pasos al norte\n",
    "- 43 pasos al oeste\n",
    "- 9 pasos al sur\n",
    "- 12 pasos al este\n",
    "- 31 pasos al sur\n",
    "\n",
    "**Siempre vamos a empezar buscando el tesoro desde la ubicacion 0,0**.\n",
    "\n",
    "La primera coordenada representa el eje X e **incrementa hacia el este y decrementa hacia el oeste**, y la segunda coordenada representa el eje Y e **incrementa hacia el sur y decrementa hacia el norte**:\n",
    "\n",
    "Siguiendo las instrucciones:\n",
    "\n",
    "- Nos movemos al este 5 pasos, estando ahora en la posición **5,0**\n",
    "- Nos movemos al norte 6 pasos, estando ahora en la posición **5,-6**\n",
    "- Nos movemos al oeste 43 pasos, estando ahora en la posición **-38,-6**\n",
    "- Nos movemos al sur 9 unidades, estando ahora en la posicion **-38,3**\n",
    "- Nos movemos al este 12 pasos, estando ahora en la posición **-26,3**\n",
    "- Nos movemos al sur 31 pasos, estando ahora en la posición **-26, 34**\n",
    "\n",
    "Esto quiere decir que el tesoro está en la posición **-26,34**"
   ]
  },
  {
   "cell_type": "code",
   "execution_count": 12,
   "metadata": {},
   "outputs": [],
   "source": [
    "def encontrarTesoro (string):\n",
    "    \n",
    "    x = 0\n",
    "    y = 0\n",
    "   \n",
    "    \n",
    "    with open(string, mode='r') as direcciones_mapa:\n",
    "        treasure_map = direcciones_mapa.readlines() \n",
    "        \n",
    "        cant_direcciones = len(treasure_map)\n",
    "        \n",
    "        for direccion in range (0,cant_direcciones):\n",
    "            \n",
    "            linea = treasure_map[direccion]\n",
    "            linea_dividida = linea.split()\n",
    "\n",
    "            if linea_dividida [0] == \"E\":\n",
    "\n",
    "                x = x + int(linea_dividida[1]) \n",
    "                \n",
    "\n",
    "            elif linea_dividida [0] == \"O\":\n",
    "                x = x - int(linea_dividida[1]) \n",
    "\n",
    "            elif linea_dividida [0] == \"S\":\n",
    "                y = y + int(linea_dividida[1]) \n",
    "\n",
    "\n",
    "            else:\n",
    "                y = y - int(linea_dividida[1]) \n",
    "                \n",
    "        return x,y"
   ]
  },
  {
   "cell_type": "code",
   "execution_count": 5,
   "metadata": {},
   "outputs": [
    {
     "data": {
      "text/plain": [
       "(-258, -482)"
      ]
     },
     "execution_count": 5,
     "metadata": {},
     "output_type": "execute_result"
    }
   ],
   "source": [
    "encontrarTesoro(\"Tesoro 3.txt\")"
   ]
  },
  {
   "cell_type": "code",
   "execution_count": 6,
   "metadata": {},
   "outputs": [
    {
     "data": {
      "text/plain": [
       "(-30, 31)"
      ]
     },
     "execution_count": 6,
     "metadata": {},
     "output_type": "execute_result"
    }
   ],
   "source": [
    "encontrarTesoro(\"Tesoro 2.txt\")"
   ]
  },
  {
   "cell_type": "code",
   "execution_count": 8,
   "metadata": {},
   "outputs": [
    {
     "data": {
      "text/plain": [
       "(-21, 71)"
      ]
     },
     "execution_count": 8,
     "metadata": {},
     "output_type": "execute_result"
    }
   ],
   "source": [
    "encontrarTesoro(\"Tesoro 1.txt\")"
   ]
  },
  {
   "cell_type": "code",
   "execution_count": 9,
   "metadata": {},
   "outputs": [
    {
     "data": {
      "text/plain": [
       "(-26, 34)"
      ]
     },
     "execution_count": 9,
     "metadata": {},
     "output_type": "execute_result"
    }
   ],
   "source": [
    "encontrarTesoro(\"Tesoro 0.txt\")"
   ]
  },
  {
   "cell_type": "markdown",
   "metadata": {},
   "source": [
    "### Ejercicio 3 \n",
    "\n",
    "\n",
    "Se está estudiando el comportamiento de rebote de una esfera en ausencia de gravedad en la estación espacial. Esta vez, la esfera está atrapada en un contenedor rectangular de vidrio, haciendo que sólo pueda moverse en un espacio de dos dimensiones. El contenedor de vidrio es rectangular (M x N), y la esfera es lanzada **desde la esquina superior izquierda del contenedor** en la dirección diagonal opuesta:\n",
    "\n",
    "<img src=\"https://i.imgur.com/EsSu9qK.png\" width=200>\n",
    "\n",
    "Debido a la falta de gravedad y las condiciones del experimento, la esfera **no va a detenerse ni cambiar de velocidad**.\n",
    "\n",
    "La ruta tomada por la esfera se refleja en **una matriz de M x N celdas** en la computadora de la estación, y cada vez que se registra una nueva posición se considera **un paso**. Por ejemplo, para un contenedor de **tamaño 4 x 6**, después de **10 pasos**, la esfera habrá recorrido el siguiente camino:\n",
    "\n",
    "<img src=\"https://i.imgur.com/haaHY7l.png\" width=200>\n",
    "\n",
    "Construya una función llamada `calcularRebote2` que reciba 3 parámetros: El **ancho del contenedor**, el **largo del contenedor**, y la duración por la cual se observará la esfera, **expresada en pasos**, y retorne **la posición final de la esfera** después de esa cantidad de pasos, expresada en coordenadas tal que **la esquina superior izquierda es 0,0**. El eje X aumenta a la derecha, y el Y hacia abajo. \n",
    "\n",
    "En el ejemplo anterior, la computadora reporta que la posición final es **3,1**.\n"
   ]
  },
  {
   "cell_type": "code",
   "execution_count": 25,
   "metadata": {},
   "outputs": [],
   "source": [
    "def calcularRebote2(ancho,largo,cantPasos):\n",
    "    posX = 0#estos calculan la posiscion de las x \n",
    "    posY = 0\n",
    "    \n",
    "    #modifican las x, y \n",
    "    modX = 1\n",
    "    modY = 1\n",
    "    \n",
    "    for paso in range(cantPasos-1):\n",
    "        if modX == -1 and posX == 0 : #estoy chocando contra la pared y estoy moviendome a la izq. \n",
    "            modX = 1\n",
    "            \n",
    "        elif modX == 1 and posX == ancho- 1 : #ancho - 1 porque  va de n - 1\n",
    "            modX = -1\n",
    "            \n",
    "        elif modY == -1 and posY == 0: # arriba \n",
    "            modY = 1\n",
    "        \n",
    "        elif modY == 1 and posY == largo- 1: #Contra el piso \n",
    "            modY = -1\n",
    "            \n",
    "        posX = posX+modX\n",
    "        posY = posY+modY\n",
    "         \n",
    "    return posX,posY"
   ]
  },
  {
   "cell_type": "code",
   "execution_count": 26,
   "metadata": {},
   "outputs": [
    {
     "data": {
      "text/plain": [
       "(3, 1)"
      ]
     },
     "execution_count": 26,
     "metadata": {},
     "output_type": "execute_result"
    }
   ],
   "source": [
    "calcularRebote2(4,6,10)"
   ]
  }
 ],
 "metadata": {
  "kernelspec": {
   "display_name": "Python 3 (ipykernel)",
   "language": "python",
   "name": "python3"
  },
  "language_info": {
   "codemirror_mode": {
    "name": "ipython",
    "version": 3
   },
   "file_extension": ".py",
   "mimetype": "text/x-python",
   "name": "python",
   "nbconvert_exporter": "python",
   "pygments_lexer": "ipython3",
   "version": "3.9.7"
  }
 },
 "nbformat": 4,
 "nbformat_minor": 4
}
